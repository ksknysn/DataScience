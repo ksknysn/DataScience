{
  "nbformat": 4,
  "nbformat_minor": 0,
  "metadata": {
    "colab": {
      "name": "passat.ipynb",
      "provenance": [],
      "include_colab_link": true
    },
    "kernelspec": {
      "name": "python3",
      "display_name": "Python 3"
    },
    "language_info": {
      "name": "python"
    }
  },
  "cells": [
    {
      "cell_type": "markdown",
      "metadata": {
        "id": "view-in-github",
        "colab_type": "text"
      },
      "source": [
        "<a href=\"https://colab.research.google.com/github/ksknysn/BuyingCar/blob/main/passat.ipynb\" target=\"_parent\"><img src=\"https://colab.research.google.com/assets/colab-badge.svg\" alt=\"Open In Colab\"/></a>"
      ]
    },
    {
      "cell_type": "code",
      "execution_count": 1,
      "metadata": {
        "id": "_RWU_J16EFwS"
      },
      "outputs": [],
      "source": [
        "from bs4 import BeautifulSoup\n",
        "import requests\n",
        "import re\n",
        "import pandas as pd\n",
        "import numpy as np\n",
        "import matplotlib.pyplot as plt"
      ]
    },
    {
      "cell_type": "code",
      "source": [
        "#you should crawl webpages or download(i downloaded)\n",
        "with open(\"/content/sample_data/passat.html\") as fp:\n",
        "  soup = BeautifulSoup(fp, \"html.parser\")"
      ],
      "metadata": {
        "id": "FZ9J6o_ZEHur"
      },
      "execution_count": 3,
      "outputs": []
    },
    {
      "cell_type": "code",
      "source": [
        "#start to scrap the webpage\n",
        "table1 = soup.find_all(\"tr\",class_=\"searchResultsItem\")\n",
        "#fill an numpy array with car features\n",
        "data1 = np.empty(shape=(1,6),dtype='<U4')"
      ],
      "metadata": {
        "id": "ExI8s9I_EKJY"
      },
      "execution_count": 4,
      "outputs": []
    },
    {
      "cell_type": "code",
      "source": [
        "#scrapping html table\n",
        "for row in table1:\n",
        "\n",
        "    try:\n",
        "        photo = row.find(\"td\",class_=\"searchResultsLargeThumbnail\")\n",
        "\n",
        "        features1 = row.find_all(\"td\",class_=\"searchResultsTagAttributeValue\")\n",
        "        brand = re.split(\"\\n\", features1[0].text)[1].replace(' ','')\n",
        "        serial = re.split(\"\\n\", features1[1].text)[1].replace(' ','')\n",
        "        model = re.split(\"\\n\", features1[2].text)[1].replace(' ','')\n",
        "\n",
        "        notice = row.find(\"td\",class_=\"searchResultsTitleValue\").text\n",
        "        notice = re.split(\"\\n\", notice)\n",
        "\n",
        "        features2 = row.find_all(\"td\",class_=\"searchResultsAttributeValue\")\n",
        "        year = int(re.split(\"\\n\",features2[0].text)[1].replace(' ',''))\n",
        "        km = int(re.split(\"\\n\",features2[1].text)[1][:-4].replace(' ',''))\n",
        "\n",
        "        \n",
        "        price = row.find(\"td\", class_=\"searchResultsPriceValue\").text\n",
        "        price = int(re.split(\"\\n\", price)[1][:-7].replace('.',''))\n",
        "        #print(brand, serial, model, year, km, price)\n",
        "        \n",
        "    except:\n",
        "        None\n",
        "\n",
        "    \n",
        "    e = np.array([[brand, serial, model, year, km, price]])\n",
        "    c = np.vstack((data1, e))\n",
        "    data1 = c"
      ],
      "metadata": {
        "id": "L43rUA0OEPbj"
      },
      "execution_count": 5,
      "outputs": []
    },
    {
      "cell_type": "code",
      "source": [
        "#filled array list, we will create a pandas dataframe with this list\n",
        "data1"
      ],
      "metadata": {
        "colab": {
          "base_uri": "https://localhost:8080/"
        },
        "id": "OmhWL9QRERZ_",
        "outputId": "d5104fc2-71ca-4ab2-b8e8-47638aec19ca"
      },
      "execution_count": 6,
      "outputs": [
        {
          "output_type": "execute_result",
          "data": {
            "text/plain": [
              "array([['', '', '', '', '', ''],\n",
              "       ['Volkswagen', 'Passat', '1.6TDIBlueMotionHighline', '2016',\n",
              "        '105', '607'],\n",
              "       ['Volkswagen', 'Passat', '2.0TDIBlueMotionHighline', '2013',\n",
              "        '192', '422'],\n",
              "       ['Volkswagen', 'Golf', '1.4TSIHighline', '2013', '135', '405'],\n",
              "       ['Volkswagen', 'Golf', '1.4TSIHighline', '2013', '135', '405'],\n",
              "       ['Volkswagen', 'Polo', '1.2TSIComfortline', '2017', '42', '297'],\n",
              "       ['Volkswagen', 'VWCC', '2.0TDI', '2012', '169', '298'],\n",
              "       ['Volkswagen', 'Passat', '1.6TDIBlueMotionTrendline', '2017',\n",
              "        '120', '437'],\n",
              "       ['Volkswagen', 'Passat', '1.6Exclusive', '2005', '176', '136'],\n",
              "       ['Volkswagen', 'Passat', '1.4TSIBlueMotionComfortline', '2017',\n",
              "        '33', '605'],\n",
              "       ['Volkswagen', 'Passat', '1.6TDIBlueMotionRLine', '2017', '108',\n",
              "        '642'],\n",
              "       ['Volkswagen', 'Passat', '1.6TDIBlueMotionComfortline', '2015',\n",
              "        '172', '510'],\n",
              "       ['Volkswagen', 'Passat', '1.6TDIBlueMotionHighline', '2017',\n",
              "        '163', '689'],\n",
              "       ['Volkswagen', 'Polo', '1.0TSIComfortline', '2017', '55', '362'],\n",
              "       ['Volkswagen', 'Passat', '1.6TDIBlueMotionHighline', '2015',\n",
              "        '185', '487'],\n",
              "       ['Volkswagen', 'Passat', '1.5TSIBusiness', '2020', '5', '715'],\n",
              "       ['Volkswagen', 'Passat', '1.4TSIBlueMotionHighline', '2016', '65',\n",
              "        '635'],\n",
              "       ['Volkswagen', 'Passat', '1.4TSIBlueMotionComfortline', '2014',\n",
              "        '104', '249'],\n",
              "       ['Volkswagen', 'Jetta', '1.6TDITrendline', '2014', '226', '209'],\n",
              "       ['Volkswagen', 'Jetta', '1.6TDITrendline', '2014', '138', '279'],\n",
              "       ['Volkswagen', 'Passat', '1.6TDIBlueMotionRLine', '2016', '118',\n",
              "        '683'],\n",
              "       ['Volkswagen', 'VWCC', '1.4TSISportline', '2013', '168', '415']],\n",
              "      dtype='<U27')"
            ]
          },
          "metadata": {},
          "execution_count": 6
        }
      ]
    },
    {
      "cell_type": "code",
      "source": [
        "#remove the first row while we added to creat numpy list\n",
        "data1 = np.delete(data1,0,0)\n",
        "#create pandas dataframe\n",
        "df = pd.DataFrame(data1,columns=('brand','serial', 'model','year','km','price'))\n",
        "#convert to int some features to analyze\n",
        "df = df.astype({'year':int, 'km':int, 'price':int})"
      ],
      "metadata": {
        "id": "R1KU8HXgETLT"
      },
      "execution_count": 7,
      "outputs": []
    },
    {
      "cell_type": "code",
      "source": [
        "df.size"
      ],
      "metadata": {
        "colab": {
          "base_uri": "https://localhost:8080/"
        },
        "id": "1tHsJlrQEVHd",
        "outputId": "59a1c019-1476-459d-927e-1affb68eff48"
      },
      "execution_count": 8,
      "outputs": [
        {
          "output_type": "execute_result",
          "data": {
            "text/plain": [
              "126"
            ]
          },
          "metadata": {},
          "execution_count": 8
        }
      ]
    },
    {
      "cell_type": "code",
      "source": [
        "#filter just passat seri\n",
        "Passat = df.loc[df['serial'] == 'Passat']"
      ],
      "metadata": {
        "id": "UoFgwLA1EWvm"
      },
      "execution_count": 9,
      "outputs": []
    },
    {
      "cell_type": "code",
      "source": [
        "Passat.head()"
      ],
      "metadata": {
        "colab": {
          "base_uri": "https://localhost:8080/",
          "height": 206
        },
        "id": "0XkM0RLAEYMQ",
        "outputId": "82b36dcc-9a7f-4682-c31e-094434d2e7d6"
      },
      "execution_count": 10,
      "outputs": [
        {
          "output_type": "execute_result",
          "data": {
            "text/html": [
              "\n",
              "  <div id=\"df-49b01905-ba0a-4a9f-b0d7-c67297139edd\">\n",
              "    <div class=\"colab-df-container\">\n",
              "      <div>\n",
              "<style scoped>\n",
              "    .dataframe tbody tr th:only-of-type {\n",
              "        vertical-align: middle;\n",
              "    }\n",
              "\n",
              "    .dataframe tbody tr th {\n",
              "        vertical-align: top;\n",
              "    }\n",
              "\n",
              "    .dataframe thead th {\n",
              "        text-align: right;\n",
              "    }\n",
              "</style>\n",
              "<table border=\"1\" class=\"dataframe\">\n",
              "  <thead>\n",
              "    <tr style=\"text-align: right;\">\n",
              "      <th></th>\n",
              "      <th>brand</th>\n",
              "      <th>serial</th>\n",
              "      <th>model</th>\n",
              "      <th>year</th>\n",
              "      <th>km</th>\n",
              "      <th>price</th>\n",
              "    </tr>\n",
              "  </thead>\n",
              "  <tbody>\n",
              "    <tr>\n",
              "      <th>0</th>\n",
              "      <td>Volkswagen</td>\n",
              "      <td>Passat</td>\n",
              "      <td>1.6TDIBlueMotionHighline</td>\n",
              "      <td>2016</td>\n",
              "      <td>105</td>\n",
              "      <td>607</td>\n",
              "    </tr>\n",
              "    <tr>\n",
              "      <th>1</th>\n",
              "      <td>Volkswagen</td>\n",
              "      <td>Passat</td>\n",
              "      <td>2.0TDIBlueMotionHighline</td>\n",
              "      <td>2013</td>\n",
              "      <td>192</td>\n",
              "      <td>422</td>\n",
              "    </tr>\n",
              "    <tr>\n",
              "      <th>6</th>\n",
              "      <td>Volkswagen</td>\n",
              "      <td>Passat</td>\n",
              "      <td>1.6TDIBlueMotionTrendline</td>\n",
              "      <td>2017</td>\n",
              "      <td>120</td>\n",
              "      <td>437</td>\n",
              "    </tr>\n",
              "    <tr>\n",
              "      <th>7</th>\n",
              "      <td>Volkswagen</td>\n",
              "      <td>Passat</td>\n",
              "      <td>1.6Exclusive</td>\n",
              "      <td>2005</td>\n",
              "      <td>176</td>\n",
              "      <td>136</td>\n",
              "    </tr>\n",
              "    <tr>\n",
              "      <th>8</th>\n",
              "      <td>Volkswagen</td>\n",
              "      <td>Passat</td>\n",
              "      <td>1.4TSIBlueMotionComfortline</td>\n",
              "      <td>2017</td>\n",
              "      <td>33</td>\n",
              "      <td>605</td>\n",
              "    </tr>\n",
              "  </tbody>\n",
              "</table>\n",
              "</div>\n",
              "      <button class=\"colab-df-convert\" onclick=\"convertToInteractive('df-49b01905-ba0a-4a9f-b0d7-c67297139edd')\"\n",
              "              title=\"Convert this dataframe to an interactive table.\"\n",
              "              style=\"display:none;\">\n",
              "        \n",
              "  <svg xmlns=\"http://www.w3.org/2000/svg\" height=\"24px\"viewBox=\"0 0 24 24\"\n",
              "       width=\"24px\">\n",
              "    <path d=\"M0 0h24v24H0V0z\" fill=\"none\"/>\n",
              "    <path d=\"M18.56 5.44l.94 2.06.94-2.06 2.06-.94-2.06-.94-.94-2.06-.94 2.06-2.06.94zm-11 1L8.5 8.5l.94-2.06 2.06-.94-2.06-.94L8.5 2.5l-.94 2.06-2.06.94zm10 10l.94 2.06.94-2.06 2.06-.94-2.06-.94-.94-2.06-.94 2.06-2.06.94z\"/><path d=\"M17.41 7.96l-1.37-1.37c-.4-.4-.92-.59-1.43-.59-.52 0-1.04.2-1.43.59L10.3 9.45l-7.72 7.72c-.78.78-.78 2.05 0 2.83L4 21.41c.39.39.9.59 1.41.59.51 0 1.02-.2 1.41-.59l7.78-7.78 2.81-2.81c.8-.78.8-2.07 0-2.86zM5.41 20L4 18.59l7.72-7.72 1.47 1.35L5.41 20z\"/>\n",
              "  </svg>\n",
              "      </button>\n",
              "      \n",
              "  <style>\n",
              "    .colab-df-container {\n",
              "      display:flex;\n",
              "      flex-wrap:wrap;\n",
              "      gap: 12px;\n",
              "    }\n",
              "\n",
              "    .colab-df-convert {\n",
              "      background-color: #E8F0FE;\n",
              "      border: none;\n",
              "      border-radius: 50%;\n",
              "      cursor: pointer;\n",
              "      display: none;\n",
              "      fill: #1967D2;\n",
              "      height: 32px;\n",
              "      padding: 0 0 0 0;\n",
              "      width: 32px;\n",
              "    }\n",
              "\n",
              "    .colab-df-convert:hover {\n",
              "      background-color: #E2EBFA;\n",
              "      box-shadow: 0px 1px 2px rgba(60, 64, 67, 0.3), 0px 1px 3px 1px rgba(60, 64, 67, 0.15);\n",
              "      fill: #174EA6;\n",
              "    }\n",
              "\n",
              "    [theme=dark] .colab-df-convert {\n",
              "      background-color: #3B4455;\n",
              "      fill: #D2E3FC;\n",
              "    }\n",
              "\n",
              "    [theme=dark] .colab-df-convert:hover {\n",
              "      background-color: #434B5C;\n",
              "      box-shadow: 0px 1px 3px 1px rgba(0, 0, 0, 0.15);\n",
              "      filter: drop-shadow(0px 1px 2px rgba(0, 0, 0, 0.3));\n",
              "      fill: #FFFFFF;\n",
              "    }\n",
              "  </style>\n",
              "\n",
              "      <script>\n",
              "        const buttonEl =\n",
              "          document.querySelector('#df-49b01905-ba0a-4a9f-b0d7-c67297139edd button.colab-df-convert');\n",
              "        buttonEl.style.display =\n",
              "          google.colab.kernel.accessAllowed ? 'block' : 'none';\n",
              "\n",
              "        async function convertToInteractive(key) {\n",
              "          const element = document.querySelector('#df-49b01905-ba0a-4a9f-b0d7-c67297139edd');\n",
              "          const dataTable =\n",
              "            await google.colab.kernel.invokeFunction('convertToInteractive',\n",
              "                                                     [key], {});\n",
              "          if (!dataTable) return;\n",
              "\n",
              "          const docLinkHtml = 'Like what you see? Visit the ' +\n",
              "            '<a target=\"_blank\" href=https://colab.research.google.com/notebooks/data_table.ipynb>data table notebook</a>'\n",
              "            + ' to learn more about interactive tables.';\n",
              "          element.innerHTML = '';\n",
              "          dataTable['output_type'] = 'display_data';\n",
              "          await google.colab.output.renderOutput(dataTable, element);\n",
              "          const docLink = document.createElement('div');\n",
              "          docLink.innerHTML = docLinkHtml;\n",
              "          element.appendChild(docLink);\n",
              "        }\n",
              "      </script>\n",
              "    </div>\n",
              "  </div>\n",
              "  "
            ],
            "text/plain": [
              "        brand  serial                        model  year   km  price\n",
              "0  Volkswagen  Passat     1.6TDIBlueMotionHighline  2016  105    607\n",
              "1  Volkswagen  Passat     2.0TDIBlueMotionHighline  2013  192    422\n",
              "6  Volkswagen  Passat    1.6TDIBlueMotionTrendline  2017  120    437\n",
              "7  Volkswagen  Passat                 1.6Exclusive  2005  176    136\n",
              "8  Volkswagen  Passat  1.4TSIBlueMotionComfortline  2017   33    605"
            ]
          },
          "metadata": {},
          "execution_count": 10
        }
      ]
    },
    {
      "cell_type": "code",
      "source": [
        "#i choose the scatter plot\n",
        "Passat.plot.scatter(x='year',y='km',s='price')"
      ],
      "metadata": {
        "colab": {
          "base_uri": "https://localhost:8080/",
          "height": 301
        },
        "id": "cDUEg7weEaM8",
        "outputId": "ff499406-6c5c-4a7a-844d-bd61d3ac9602"
      },
      "execution_count": 11,
      "outputs": [
        {
          "output_type": "execute_result",
          "data": {
            "text/plain": [
              "<matplotlib.axes._subplots.AxesSubplot at 0x7f30ce8f1dd0>"
            ]
          },
          "metadata": {},
          "execution_count": 11
        },
        {
          "output_type": "display_data",
          "data": {
            "image/png": "[encoded data removed]",
            "text/plain": [
              "<Figure size 432x288 with 1 Axes>"
            ]
          },
          "metadata": {
            "needs_background": "light"
          }
        }
      ]
    },
    {
      "cell_type": "markdown",
      "source": [
        "Conclusion: You can see a car that is the second lowest price while its model is newer than two car and its km is lower than more than 7 cars. so you can choose that car to buy after looking other qualifications(like accidents etc.)"
      ],
      "metadata": {
        "id": "687d2i2aEk4i"
      }
    },
    {
      "cell_type": "code",
      "source": [
        "print(Passat.loc[Passat['year']==2013])\n",
        "print(Passat.loc[Passat['year']==2014])"
      ],
      "metadata": {
        "colab": {
          "base_uri": "https://localhost:8080/"
        },
        "id": "CqlRsXneEi-L",
        "outputId": "dcfc96a3-7177-49f8-add5-9fecf5049819"
      },
      "execution_count": 12,
      "outputs": [
        {
          "output_type": "stream",
          "name": "stdout",
          "text": [
            "        brand  serial                     model  year   km  price\n",
            "1  Volkswagen  Passat  2.0TDIBlueMotionHighline  2013  192    422\n",
            "         brand  serial                        model  year   km  price\n",
            "16  Volkswagen  Passat  1.4TSIBlueMotionComfortline  2014  104    249\n"
          ]
        }
      ]
    },
    {
      "cell_type": "markdown",
      "source": [
        "First car is 2013, 192 km and 422k but the second one is 2014, 104 km and 249k. So, we should choose the second one. shouldn't we?"
      ],
      "metadata": {
        "id": "HDyvHcIlE-4w"
      }
    }
  ]
}